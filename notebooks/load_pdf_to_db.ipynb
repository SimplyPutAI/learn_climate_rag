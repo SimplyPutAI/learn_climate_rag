{
 "cells": [
  {
   "cell_type": "code",
   "execution_count": 2,
   "id": "8f7d560b-7df5-42e8-8f05-0c9eb26417a3",
   "metadata": {},
   "outputs": [],
   "source": [
    "## Load the PDF using PyPDFLoader\n",
    "from langchain.document_loaders import PyPDFLoader\n",
    "\n",
    "# Assign the PDF you want to vectorize\n",
    "loader = PyPDFLoader(\"01_SROCC_SPM_FINAL.pdf\")\n",
    "pages = loader.load_and_split()\n"
   ]
  },
  {
   "cell_type": "code",
   "execution_count": 3,
   "id": "485f1c18-d798-4e7e-a9cd-8ca420cb761f",
   "metadata": {},
   "outputs": [
    {
     "data": {
      "text/plain": [
       "Document(page_content='Summary for  \\nPolicymakers', metadata={'source': '01_SROCC_SPM_FINAL.pdf', 'page': 0})"
      ]
     },
     "execution_count": 3,
     "metadata": {},
     "output_type": "execute_result"
    }
   ],
   "source": [
    "## Check for content\n",
    "pages[0]"
   ]
  },
  {
   "cell_type": "code",
   "execution_count": 6,
   "id": "591462bf-3c63-4c06-84fb-2a17acb0a9cc",
   "metadata": {},
   "outputs": [
    {
     "name": "stdin",
     "output_type": "stream",
     "text": [
      "OpenAI API Key: ········\n"
     ]
    }
   ],
   "source": [
    "## Set Open AI key\n",
    "\n",
    "import os\n",
    "import getpass\n",
    "\n",
    "os.environ['OPENAI_API_KEY'] = getpass.getpass('OpenAI API Key:')"
   ]
  },
  {
   "cell_type": "code",
   "execution_count": 7,
   "id": "80420356-d47b-4e47-87c2-869716c7d353",
   "metadata": {},
   "outputs": [
    {
     "name": "stderr",
     "output_type": "stream",
     "text": [
      "/opt/conda/lib/python3.10/site-packages/langchain/embeddings/openai.py:437: PydanticDeprecatedSince20: The `dict` method is deprecated; use `model_dump` instead. Deprecated in Pydantic V2.0 to be removed in V3.0. See Pydantic V2 Migration Guide at https://errors.pydantic.dev/2.5/migration/\n",
      "  response = response.dict()\n",
      "/opt/conda/lib/python3.10/site-packages/pydantic/main.py:979: PydanticDeprecatedSince20: The `dict` method is deprecated; use `model_dump` instead. Deprecated in Pydantic V2.0 to be removed in V3.0. See Pydantic V2 Migration Guide at https://errors.pydantic.dev/2.5/migration/\n",
      "  warnings.warn('The `dict` method is deprecated; use `model_dump` instead.', DeprecationWarning)\n"
     ]
    }
   ],
   "source": [
    "## Add to vector DB\n",
    "\n",
    "import weaviate\n",
    "from langchain.embeddings import OpenAIEmbeddings\n",
    "from langchain.vectorstores import Weaviate\n",
    "\n",
    "WEAVIATE_INDEX_NAME = \"climate_change\"\n",
    "client = weaviate.Client(\n",
    "    url=\"http://weaviate:8080\",\n",
    "    additional_headers = {\n",
    "        \"X-OpenAI-Api-Key\": os.environ[\"OPENAI_API_KEY\"]\n",
    "    }\n",
    ")\n",
    "\n",
    "vectorstore = Weaviate.from_documents(\n",
    "     client=client, documents=pages, embedding=OpenAIEmbeddings(), index_name=WEAVIATE_INDEX_NAME\n",
    ")\n",
    "retriever = vectorstore.as_retriever()"
   ]
  },
  {
   "cell_type": "code",
   "execution_count": 8,
   "id": "f53cdf44-ea2c-49e1-badb-16fdcbcce547",
   "metadata": {},
   "outputs": [
    {
     "data": {
      "text/plain": [
       "{'data': {'Aggregate': {'Climate_change': [{'meta': {'count': 50}}]}}}"
      ]
     },
     "execution_count": 8,
     "metadata": {},
     "output_type": "execute_result"
    }
   ],
   "source": [
    "## Check if there is any data in the DB\n",
    "client.query.aggregate(WEAVIATE_INDEX_NAME).with_meta_count().do()"
   ]
  },
  {
   "cell_type": "code",
   "execution_count": 22,
   "id": "e43d4bb2-965e-4391-8026-29d91929f0ba",
   "metadata": {},
   "outputs": [
    {
     "data": {
      "text/plain": [
       "{'data': {'Get': {'Climate_change': [{'text': '7SPMSummary for Policymakers\\nhigh aciditylow acidityHistorical changes (observed and modelled) and projections under RCP2.6 and RCP8.5 for key indicators\\nHistorical (modelled) Historical (observed) Projected (RCP2.6) Projected (RCP8.5)\\n−1012345(a) Global mean surface air temperature\\nchange relative to 1986−2005\\n−6−4−202\\n(i) Ocean oxygen (100−600 m depth)\\n%\\n(j) Arctic sea ice extent\\n(September)\\n%\\n1950 2000 2050 2100(l) Near−surface permafrost area\\nyear1950 2000 2050 2100\\nyearºC\\n%Past and future changes in the ocean and cryosphere \\nchange relative to 1986−2005\\nchange relative to 1986−2005\\nchange relative to 1986−2005\\nyear−1012345(b) Global mean sea surface temperatureºCchange relative to 1986−2005\\n015101520(c) Marine heatwave daysmultiplication factorfactor of change relative to 1986−20057.87.98.08.1\\npH(h) Surface ocean pH\\n00.10.20.3\\nmetres\\n080016002400(d) Ocean heat content (0−2000 m depth)1021 Joulesand sea level equivalent (right axis)\\nchange relative to 1986−2005\\n00.10.20.3\\n(e) Greenland ice sheet mass loss\\nas sea level equivalent,metres\\n00.10.20.3\\n(f) Antarctic ice sheet mass loss\\nas sea level equivalent,metres\\n1950 2000 2050 210000.10.20.3\\n(g) Glacier mass loss\\nas sea level equivalent,metres\\nyearchange relative to 1986−2005\\nchange relative to 1986−2005\\nchange relative to 1986−2005\\n1950\\nmetres*\\n*\\n2000 2050 2100 2150 2200 2250 2300012345\\nprimary drivers\\n(m) Global mean sea level\\nchange relative to 1986−2005*\\n*−100−50050\\n−100−50050100\\n−100−50050(k) Arctic snow cover extent (June)\\n%\\nchange relative to 1986−2005\\n0.43 m0.84 m\\nFigure SPM.1  |  Observed and modelled historical changes in the ocean and cryosphere since 195011, and projected future changes under low \\n(RCP2.6) and high (RCP8.5) greenhouse gas emissions scenarios. {Box SPM.1} \\n11 This does not imply that the changes started in 1950. Changes in some variables have occurred since the pre-industrial period.'},\n",
       "    {'text': 'for alternative energy sources is expected to generate economic opportunities for the ocean renewable energy sector \\n(high conﬁdence ), although their potential may also be affected by climate change ( low conﬁdence ). {5.4.2,\\xa05.5.1, \\nFigure\\xa05.23}'}]}}}"
      ]
     },
     "execution_count": 22,
     "metadata": {},
     "output_type": "execute_result"
    }
   ],
   "source": [
    "## Query some chunks\n",
    "client.query.get(WEAVIATE_INDEX_NAME, [\"text\"]).with_limit(2).do()"
   ]
  },
  {
   "cell_type": "code",
   "execution_count": null,
   "id": "11337b35-ecc8-46c0-8040-c1a36b2e7146",
   "metadata": {},
   "outputs": [],
   "source": [
    "# Check the schema\n",
    "client.schema.get(WEAVIATE_INDEX_NAME)"
   ]
  }
 ],
 "metadata": {
  "kernelspec": {
   "display_name": "Python 3 (ipykernel)",
   "language": "python",
   "name": "python3"
  },
  "language_info": {
   "codemirror_mode": {
    "name": "ipython",
    "version": 3
   },
   "file_extension": ".py",
   "mimetype": "text/x-python",
   "name": "python",
   "nbconvert_exporter": "python",
   "pygments_lexer": "ipython3",
   "version": "3.10.11"
  }
 },
 "nbformat": 4,
 "nbformat_minor": 5
}
